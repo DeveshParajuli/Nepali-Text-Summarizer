{
 "cells": [
  {
   "cell_type": "code",
   "execution_count": 60,
   "metadata": {},
   "outputs": [],
   "source": [
    "import re"
   ]
  },
  {
   "cell_type": "code",
   "execution_count": 61,
   "metadata": {},
   "outputs": [
    {
     "name": "stdout",
     "output_type": "stream",
     "text": [
      "यो एउटा नेपाली वाक्य हो!!!। यो अर्को वाक्य हो।\n"
     ]
    }
   ],
   "source": [
    "with open('sample_text.txt', 'r', encoding='utf-8') as file:\n",
    "    text1 = file.read()\n",
    "print(text1)"
   ]
  },
  {
   "cell_type": "code",
   "execution_count": 62,
   "metadata": {},
   "outputs": [],
   "source": [
    "def clean_txt(text):\n",
    "    #removing \"!\"र\n",
    "    text = re.sub(\"!\",\"\",text)\n",
    "    #replacing\"।\" with \".\"\n",
    "    text = re.sub(\"।\",\".\",text)\n",
    "    return text"
   ]
  },
  {
   "cell_type": "code",
   "execution_count": 63,
   "metadata": {},
   "outputs": [],
   "source": [
    "text1 = clean_txt(text1)"
   ]
  },
  {
   "cell_type": "code",
   "execution_count": 64,
   "metadata": {},
   "outputs": [
    {
     "name": "stdout",
     "output_type": "stream",
     "text": [
      "यो एउटा नेपाली वाक्य हो. यो अर्को वाक्य हो.\n"
     ]
    }
   ],
   "source": [
    "print (text1)"
   ]
  }
 ],
 "metadata": {
  "kernelspec": {
   "display_name": "Python 3",
   "language": "python",
   "name": "python3"
  },
  "language_info": {
   "codemirror_mode": {
    "name": "ipython",
    "version": 3
   },
   "file_extension": ".py",
   "mimetype": "text/x-python",
   "name": "python",
   "nbconvert_exporter": "python",
   "pygments_lexer": "ipython3",
   "version": "3.12.3"
  }
 },
 "nbformat": 4,
 "nbformat_minor": 2
}
